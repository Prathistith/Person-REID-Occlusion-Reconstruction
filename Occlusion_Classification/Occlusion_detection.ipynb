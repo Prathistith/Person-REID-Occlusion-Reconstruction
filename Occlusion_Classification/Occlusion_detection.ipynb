{
  "nbformat": 4,
  "nbformat_minor": 0,
  "metadata": {
    "colab": {
      "name": "Occ_detection.ipynb",
      "provenance": [],
      "collapsed_sections": []
    },
    "kernelspec": {
      "name": "python3",
      "display_name": "Python 3"
    },
    "language_info": {
      "name": "python"
    }
  },
  "cells": [
    {
      "cell_type": "code",
      "metadata": {
        "id": "D2UeAVWnmoXK"
      },
      "source": [
        "import numpy as np\n",
        "import tensorflow as tf\n",
        "import matplotlib.pyplot as plt\n",
        "\n",
        "from tensorflow.keras import layers\n",
        "from tensorflow.keras.models import Model"
      ],
      "execution_count": null,
      "outputs": []
    },
    {
      "cell_type": "code",
      "metadata": {
        "colab": {
          "base_uri": "https://localhost:8080/"
        },
        "id": "6jI7nA2ymu5d",
        "outputId": "3bd14fa7-c785-4e55-e4bf-272848e662ca"
      },
      "source": [
        "d = np.load('/content/drive/MyDrive/Dataset/N/ed_occ-d.npy')\n",
        "d=d/255.0\n",
        "d.shape"
      ],
      "execution_count": null,
      "outputs": [
        {
          "output_type": "execute_result",
          "data": {
            "text/plain": [
              "(900, 2, 80, 30, 3)"
            ]
          },
          "metadata": {
            "tags": []
          },
          "execution_count": 2
        }
      ]
    },
    {
      "cell_type": "code",
      "metadata": {
        "id": "2gfL6QSaoG46"
      },
      "source": [
        "ii=np.arange(0,900)\n",
        "np.random.shuffle(ii)"
      ],
      "execution_count": null,
      "outputs": []
    },
    {
      "cell_type": "code",
      "metadata": {
        "colab": {
          "base_uri": "https://localhost:8080/"
        },
        "id": "810E3y-3m04i",
        "outputId": "f1deb12f-dc3d-4678-a987-96b1a479da55"
      },
      "source": [
        "x=[]\n",
        "y=[]\n",
        "for i in ii:\n",
        "  x.append(np.array([d[i][0]]))\n",
        "  x.append(np.array([d[i][1]]))\n",
        "  y.append(0)\n",
        "  y.append(1)\n",
        "\n",
        "x=np.array(x)\n",
        "y=np.array(y)\n",
        "x=x.reshape(1800,80,30,3)\n",
        "print(x.shape)\n",
        "print(y.shape)"
      ],
      "execution_count": null,
      "outputs": [
        {
          "output_type": "stream",
          "text": [
            "(1800, 80, 30, 3)\n",
            "(1800,)\n"
          ],
          "name": "stdout"
        }
      ]
    },
    {
      "cell_type": "code",
      "metadata": {
        "colab": {
          "base_uri": "https://localhost:8080/"
        },
        "id": "tHiSjxB-oDse",
        "outputId": "0c159da6-5eef-4fa0-e63c-c1f3e15793be"
      },
      "source": [
        "from tensorflow.keras.optimizers import RMSprop\n",
        "model = tf.keras.models.Sequential([\n",
        "    tf.keras.layers.Conv2D(16, (3, 3), activation='relu', input_shape=(80, 30, 3)),\n",
        "    tf.keras.layers.MaxPooling2D(2, 2),\n",
        "    tf.keras.layers.Conv2D(32, (3, 3), activation='relu'),\n",
        "    tf.keras.layers.Conv2D(32, (3, 3), activation='relu'),\n",
        "    tf.keras.layers.MaxPooling2D(2, 2),\n",
        "    tf.keras.layers.Conv2D(64, (3, 3), activation='relu'),\n",
        "    tf.keras.layers.MaxPooling2D(2, 2),\n",
        "    tf.keras.layers.Flatten(),\n",
        "    tf.keras.layers.Dense(512, activation='relu'),\n",
        "    tf.keras.layers.Dense(256, activation='relu'),\n",
        "    tf.keras.layers.Dense(128, activation='relu'),\n",
        "    tf.keras.layers.Dense(64, activation='relu'),\n",
        "    tf.keras.layers.Dense(1, activation='sigmoid')\n",
        "])\n",
        "\n",
        "model.compile(optimizer=RMSprop(lr=0.0008), loss='binary_crossentropy', metrics=['accuracy'])\n",
        "model.summary()"
      ],
      "execution_count": null,
      "outputs": [
        {
          "output_type": "stream",
          "text": [
            "Model: \"sequential_7\"\n",
            "_________________________________________________________________\n",
            "Layer (type)                 Output Shape              Param #   \n",
            "=================================================================\n",
            "conv2d_28 (Conv2D)           (None, 78, 28, 16)        448       \n",
            "_________________________________________________________________\n",
            "max_pooling2d_21 (MaxPooling (None, 39, 14, 16)        0         \n",
            "_________________________________________________________________\n",
            "conv2d_29 (Conv2D)           (None, 37, 12, 32)        4640      \n",
            "_________________________________________________________________\n",
            "conv2d_30 (Conv2D)           (None, 35, 10, 32)        9248      \n",
            "_________________________________________________________________\n",
            "max_pooling2d_22 (MaxPooling (None, 17, 5, 32)         0         \n",
            "_________________________________________________________________\n",
            "conv2d_31 (Conv2D)           (None, 15, 3, 64)         18496     \n",
            "_________________________________________________________________\n",
            "max_pooling2d_23 (MaxPooling (None, 7, 1, 64)          0         \n",
            "_________________________________________________________________\n",
            "flatten_7 (Flatten)          (None, 448)               0         \n",
            "_________________________________________________________________\n",
            "dense_35 (Dense)             (None, 512)               229888    \n",
            "_________________________________________________________________\n",
            "dense_36 (Dense)             (None, 256)               131328    \n",
            "_________________________________________________________________\n",
            "dense_37 (Dense)             (None, 128)               32896     \n",
            "_________________________________________________________________\n",
            "dense_38 (Dense)             (None, 64)                8256      \n",
            "_________________________________________________________________\n",
            "dense_39 (Dense)             (None, 1)                 65        \n",
            "=================================================================\n",
            "Total params: 435,265\n",
            "Trainable params: 435,265\n",
            "Non-trainable params: 0\n",
            "_________________________________________________________________\n"
          ],
          "name": "stdout"
        },
        {
          "output_type": "stream",
          "text": [
            "/usr/local/lib/python3.7/dist-packages/tensorflow/python/keras/optimizer_v2/optimizer_v2.py:375: UserWarning: The `lr` argument is deprecated, use `learning_rate` instead.\n",
            "  \"The `lr` argument is deprecated, use `learning_rate` instead.\")\n"
          ],
          "name": "stderr"
        }
      ]
    },
    {
      "cell_type": "code",
      "metadata": {
        "colab": {
          "base_uri": "https://localhost:8080/"
        },
        "id": "J_VxL4LipImr",
        "outputId": "0962ec4c-050a-4056-e4c8-157d7bfa64f3"
      },
      "source": [
        "history = model.fit(x,y,batch_size=64,epochs=25,validation_split=0.3,shuffle=True)"
      ],
      "execution_count": null,
      "outputs": [
        {
          "output_type": "stream",
          "text": [
            "Epoch 1/25\n",
            "20/20 [==============================] - 4s 131ms/step - loss: 0.6587 - accuracy: 0.6389 - val_loss: 0.4789 - val_accuracy: 0.8130\n",
            "Epoch 2/25\n",
            "20/20 [==============================] - 2s 124ms/step - loss: 0.5037 - accuracy: 0.7722 - val_loss: 0.3955 - val_accuracy: 0.8796\n",
            "Epoch 3/25\n",
            "20/20 [==============================] - 2s 123ms/step - loss: 0.3639 - accuracy: 0.8556 - val_loss: 0.2343 - val_accuracy: 0.9167\n",
            "Epoch 4/25\n",
            "20/20 [==============================] - 2s 124ms/step - loss: 0.2669 - accuracy: 0.8905 - val_loss: 0.1548 - val_accuracy: 0.9481\n",
            "Epoch 5/25\n",
            "20/20 [==============================] - 2s 122ms/step - loss: 0.1970 - accuracy: 0.9278 - val_loss: 0.1538 - val_accuracy: 0.9481\n",
            "Epoch 6/25\n",
            "20/20 [==============================] - 2s 124ms/step - loss: 0.1718 - accuracy: 0.9349 - val_loss: 0.1279 - val_accuracy: 0.9537\n",
            "Epoch 7/25\n",
            "20/20 [==============================] - 2s 122ms/step - loss: 0.1264 - accuracy: 0.9492 - val_loss: 0.1030 - val_accuracy: 0.9648\n",
            "Epoch 8/25\n",
            "20/20 [==============================] - 2s 122ms/step - loss: 0.0741 - accuracy: 0.9754 - val_loss: 0.2067 - val_accuracy: 0.9463\n",
            "Epoch 9/25\n",
            "20/20 [==============================] - 2s 123ms/step - loss: 0.1482 - accuracy: 0.9571 - val_loss: 0.0746 - val_accuracy: 0.9778\n",
            "Epoch 10/25\n",
            "20/20 [==============================] - 2s 122ms/step - loss: 0.0315 - accuracy: 0.9929 - val_loss: 0.0859 - val_accuracy: 0.9778\n",
            "Epoch 11/25\n",
            "20/20 [==============================] - 2s 123ms/step - loss: 0.0646 - accuracy: 0.9786 - val_loss: 0.0865 - val_accuracy: 0.9741\n",
            "Epoch 12/25\n",
            "20/20 [==============================] - 2s 126ms/step - loss: 0.0204 - accuracy: 0.9937 - val_loss: 0.3762 - val_accuracy: 0.9074\n",
            "Epoch 13/25\n",
            "20/20 [==============================] - 2s 124ms/step - loss: 0.0782 - accuracy: 0.9762 - val_loss: 0.0412 - val_accuracy: 0.9870\n",
            "Epoch 14/25\n",
            "20/20 [==============================] - 2s 123ms/step - loss: 0.0578 - accuracy: 0.9849 - val_loss: 0.0390 - val_accuracy: 0.9889\n",
            "Epoch 15/25\n",
            "20/20 [==============================] - 2s 123ms/step - loss: 0.0156 - accuracy: 0.9960 - val_loss: 0.1477 - val_accuracy: 0.9648\n",
            "Epoch 16/25\n",
            "20/20 [==============================] - 2s 125ms/step - loss: 0.0323 - accuracy: 0.9881 - val_loss: 0.0442 - val_accuracy: 0.9870\n",
            "Epoch 17/25\n",
            "20/20 [==============================] - 2s 124ms/step - loss: 0.0509 - accuracy: 0.9841 - val_loss: 0.0560 - val_accuracy: 0.9796\n",
            "Epoch 18/25\n",
            "20/20 [==============================] - 2s 123ms/step - loss: 0.0833 - accuracy: 0.9770 - val_loss: 0.0803 - val_accuracy: 0.9667\n",
            "Epoch 19/25\n",
            "20/20 [==============================] - 2s 125ms/step - loss: 0.0086 - accuracy: 0.9976 - val_loss: 0.0546 - val_accuracy: 0.9815\n",
            "Epoch 20/25\n",
            "20/20 [==============================] - 2s 124ms/step - loss: 0.0011 - accuracy: 1.0000 - val_loss: 0.0719 - val_accuracy: 0.9778\n",
            "Epoch 21/25\n",
            "20/20 [==============================] - 2s 123ms/step - loss: 0.0489 - accuracy: 0.9881 - val_loss: 0.0341 - val_accuracy: 0.9907\n",
            "Epoch 22/25\n",
            "20/20 [==============================] - 2s 122ms/step - loss: 0.0017 - accuracy: 1.0000 - val_loss: 0.0432 - val_accuracy: 0.9870\n",
            "Epoch 23/25\n",
            "20/20 [==============================] - 2s 124ms/step - loss: 0.1038 - accuracy: 0.9849 - val_loss: 0.0615 - val_accuracy: 0.9815\n",
            "Epoch 24/25\n",
            "20/20 [==============================] - 2s 124ms/step - loss: 0.0058 - accuracy: 0.9984 - val_loss: 0.0439 - val_accuracy: 0.9870\n",
            "Epoch 25/25\n",
            "20/20 [==============================] - 2s 123ms/step - loss: 4.4187e-04 - accuracy: 1.0000 - val_loss: 0.0408 - val_accuracy: 0.9907\n"
          ],
          "name": "stdout"
        }
      ]
    },
    {
      "cell_type": "code",
      "metadata": {
        "colab": {
          "base_uri": "https://localhost:8080/",
          "height": 349
        },
        "id": "yf2aytszqVRW",
        "outputId": "e47faae1-fc56-4d57-ff40-26e568c2a204"
      },
      "source": [
        "from matplotlib import pyplot as plt\n",
        "print(history.history['accuracy'])\n",
        "print(history.history['val_accuracy'])\n",
        "plt.plot(history.history['accuracy'])\n",
        "plt.plot(history.history['val_accuracy'])\n",
        "plt.title('Occlusion Claiification Model Accuracy')\n",
        "plt.ylabel('Accuracy')\n",
        "plt.xlabel('Epoch')\n",
        "plt.legend(['train', 'val'], loc='upper left')\n",
        "plt.show()"
      ],
      "execution_count": null,
      "outputs": [
        {
          "output_type": "stream",
          "text": [
            "[0.6388888955116272, 0.7722222208976746, 0.855555534362793, 0.8904761672019958, 0.9277777671813965, 0.934920608997345, 0.9492063522338867, 0.9753968119621277, 0.9571428298950195, 0.9928571581840515, 0.9785714149475098, 0.9936507940292358, 0.976190447807312, 0.9849206209182739, 0.9960317611694336, 0.988095223903656, 0.9841269850730896, 0.9769841432571411, 0.9976190328598022, 1.0, 0.988095223903656, 1.0, 0.9849206209182739, 0.9984126687049866, 1.0]\n",
            "[0.8129629492759705, 0.8796296119689941, 0.9166666865348816, 0.9481481313705444, 0.9481481313705444, 0.9537037014961243, 0.9648148417472839, 0.9462962746620178, 0.9777777791023254, 0.9777777791023254, 0.9740740656852722, 0.9074074029922485, 0.9870370626449585, 0.9888888597488403, 0.9648148417472839, 0.9870370626449585, 0.979629635810852, 0.9666666388511658, 0.9814814925193787, 0.9777777791023254, 0.9907407164573669, 0.9870370626449585, 0.9814814925193787, 0.9870370626449585, 0.9907407164573669]\n"
          ],
          "name": "stdout"
        },
        {
          "output_type": "display_data",
          "data": {
            "image/png": "[encoded data removed]",
            "text/plain": [
              "<Figure size 432x288 with 1 Axes>"
            ]
          },
          "metadata": {
            "tags": [],
            "needs_background": "light"
          }
        }
      ]
    },
    {
      "cell_type": "code",
      "metadata": {
        "id": "o3R0EVzsvTna"
      },
      "source": [
        ""
      ],
      "execution_count": null,
      "outputs": []
    }
  ]
}