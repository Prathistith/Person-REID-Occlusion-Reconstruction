{
  "nbformat": 4,
  "nbformat_minor": 0,
  "metadata": {
    "colab": {
      "name": "dataextraction.ipynb",
      "provenance": []
    },
    "kernelspec": {
      "name": "python3",
      "display_name": "Python 3"
    },
    "language_info": {
      "name": "python"
    }
  },
  "cells": [
    {
      "cell_type": "code",
      "metadata": {
        "id": "gYnu-z3ciKQ2"
      },
      "source": [
        "import os\n",
        "import cv2\n",
        "import matplotlib.pyplot as plt\n",
        "import numpy as np\n",
        "import random"
      ],
      "execution_count": null,
      "outputs": []
    },
    {
      "cell_type": "code",
      "metadata": {
        "colab": {
          "base_uri": "https://localhost:8080/"
        },
        "id": "gqNbTFYTipEU",
        "outputId": "2cc9a32c-21b4-487e-89b7-7e5452b13fc1"
      },
      "source": [
        "f = os.listdir('/content/drive/MyDrive/Dataset/N/partial_dataset/OccludedREID/gallery')\n",
        "f = np.array(f)\n",
        "np.random.shuffle(f)\n",
        "len(f)"
      ],
      "execution_count": null,
      "outputs": [
        {
          "output_type": "execute_result",
          "data": {
            "text/plain": [
              "1000"
            ]
          },
          "metadata": {
            "tags": []
          },
          "execution_count": 19
        }
      ]
    },
    {
      "cell_type": "code",
      "metadata": {
        "colab": {
          "base_uri": "https://localhost:8080/",
          "height": 35
        },
        "id": "YXclVRXCNiHI",
        "outputId": "f4d843aa-e8f4-4f28-cbe9-3306ea5c1caf"
      },
      "source": [
        "f[0]"
      ],
      "execution_count": null,
      "outputs": [
        {
          "output_type": "execute_result",
          "data": {
            "application/vnd.google.colaboratory.intrinsic+json": {
              "type": "string"
            },
            "text/plain": [
              "'037_01.jpg'"
            ]
          },
          "metadata": {
            "tags": []
          },
          "execution_count": 20
        }
      ]
    },
    {
      "cell_type": "code",
      "metadata": {
        "id": "CkCYh6pfipA4"
      },
      "source": [
        "ch = np.random.randint(0,1000,600)"
      ],
      "execution_count": null,
      "outputs": []
    },
    {
      "cell_type": "code",
      "metadata": {
        "colab": {
          "base_uri": "https://localhost:8080/"
        },
        "id": "WnNeV1AYio_U",
        "outputId": "7b9bc999-b191-412d-941c-8fa64924bded"
      },
      "source": [
        "d=[]\n",
        "for i in ch:\n",
        "  d.append(f[i])\n",
        "\n",
        "len(d)"
      ],
      "execution_count": null,
      "outputs": [
        {
          "output_type": "execute_result",
          "data": {
            "text/plain": [
              "600"
            ]
          },
          "metadata": {
            "tags": []
          },
          "execution_count": 6
        }
      ]
    },
    {
      "cell_type": "code",
      "metadata": {
        "colab": {
          "base_uri": "https://localhost:8080/"
        },
        "id": "-m7IRwQNio8z",
        "outputId": "78dcce41-ca59-40f2-8454-dc1c74586d27"
      },
      "source": [
        "x=[]\n",
        "y=[]\n",
        "c=0\n",
        "for i in f:\n",
        "    c+=1\n",
        "    if int(i[:3])<=50:\n",
        "      print(c)\n",
        "      image = cv2.imread(\"/content/drive/MyDrive/Dataset/N/partial_dataset/OccludedREID/gallery/\"+ i)\n",
        "      image = cv2.cvtColor(image,cv2.COLOR_BGR2RGB)\n",
        "      re = cv2.resize(image, (30, 80), interpolation = cv2.INTER_AREA)\n",
        "      y.append(int(i[:3]))\n",
        "      x.append(re)\n",
        "      #plt.figure(figsize=(20,4))\n",
        "      #plt.subplot(1,4,1),plt.imshow(image)\n",
        "      #plt.subplot(1,4,2),plt.imshow(re)\n",
        "      #plt.show()\n",
        "\n",
        "x=np.array(x)\n",
        "print(x.shape)\n",
        "y=np.array(y)\n",
        "print(y.shape)"
      ],
      "execution_count": null,
      "outputs": [
        {
          "output_type": "stream",
          "text": [
            "1\n",
            "2\n",
            "5\n",
            "8\n",
            "12\n",
            "14\n",
            "18\n",
            "21\n",
            "30\n",
            "32\n",
            "33\n",
            "39\n",
            "40\n",
            "42\n",
            "45\n",
            "49\n",
            "50\n",
            "51\n",
            "56\n",
            "64\n",
            "67\n",
            "77\n",
            "82\n",
            "83\n",
            "86\n",
            "90\n",
            "92\n",
            "95\n",
            "100\n",
            "104\n",
            "112\n",
            "114\n",
            "116\n",
            "122\n",
            "130\n",
            "140\n",
            "144\n",
            "149\n",
            "151\n",
            "152\n",
            "168\n",
            "171\n",
            "173\n",
            "177\n",
            "180\n",
            "183\n",
            "192\n",
            "201\n",
            "202\n",
            "203\n",
            "205\n",
            "206\n",
            "209\n",
            "212\n",
            "214\n",
            "217\n",
            "219\n",
            "220\n",
            "222\n",
            "224\n",
            "225\n",
            "233\n",
            "234\n",
            "237\n",
            "239\n",
            "242\n",
            "243\n",
            "248\n",
            "255\n",
            "256\n",
            "260\n",
            "264\n",
            "265\n",
            "266\n",
            "270\n",
            "272\n",
            "281\n",
            "284\n",
            "285\n",
            "288\n",
            "294\n",
            "295\n",
            "297\n",
            "303\n",
            "311\n",
            "312\n",
            "317\n",
            "320\n",
            "326\n",
            "329\n",
            "331\n",
            "338\n",
            "344\n",
            "345\n",
            "347\n",
            "348\n",
            "350\n",
            "354\n",
            "360\n",
            "367\n",
            "369\n",
            "372\n",
            "375\n",
            "376\n",
            "378\n",
            "380\n",
            "383\n",
            "390\n",
            "408\n",
            "411\n",
            "417\n",
            "431\n",
            "434\n",
            "450\n",
            "453\n",
            "456\n",
            "460\n",
            "461\n",
            "462\n",
            "471\n",
            "474\n",
            "476\n",
            "480\n",
            "492\n",
            "494\n",
            "500\n",
            "501\n",
            "517\n",
            "519\n",
            "522\n",
            "525\n",
            "526\n",
            "528\n",
            "530\n",
            "532\n",
            "536\n",
            "539\n",
            "545\n",
            "549\n",
            "552\n",
            "560\n",
            "562\n",
            "564\n",
            "565\n",
            "572\n",
            "574\n",
            "577\n",
            "578\n",
            "579\n",
            "585\n",
            "590\n",
            "595\n",
            "596\n",
            "597\n",
            "602\n",
            "603\n",
            "610\n",
            "615\n",
            "617\n",
            "620\n",
            "621\n",
            "624\n",
            "628\n",
            "629\n",
            "633\n",
            "639\n",
            "644\n",
            "647\n",
            "648\n",
            "652\n",
            "656\n",
            "661\n",
            "669\n",
            "674\n",
            "675\n",
            "676\n",
            "685\n",
            "691\n",
            "692\n",
            "693\n",
            "703\n",
            "718\n",
            "719\n",
            "720\n",
            "723\n",
            "724\n",
            "731\n",
            "736\n",
            "742\n",
            "746\n",
            "749\n",
            "750\n",
            "753\n",
            "773\n",
            "781\n",
            "795\n",
            "800\n",
            "809\n",
            "810\n",
            "812\n",
            "819\n",
            "820\n",
            "824\n",
            "825\n",
            "839\n",
            "843\n",
            "844\n",
            "850\n",
            "852\n",
            "861\n",
            "865\n",
            "872\n",
            "874\n",
            "876\n",
            "877\n",
            "882\n",
            "885\n",
            "886\n",
            "896\n",
            "899\n",
            "902\n",
            "904\n",
            "905\n",
            "909\n",
            "917\n",
            "919\n",
            "920\n",
            "921\n",
            "928\n",
            "929\n",
            "935\n",
            "936\n",
            "944\n",
            "945\n",
            "947\n",
            "951\n",
            "952\n",
            "956\n",
            "961\n",
            "962\n",
            "964\n",
            "967\n",
            "968\n",
            "972\n",
            "974\n",
            "980\n",
            "991\n",
            "993\n",
            "995\n",
            "996\n",
            "(250, 80, 30, 3)\n",
            "(250,)\n"
          ],
          "name": "stdout"
        }
      ]
    },
    {
      "cell_type": "code",
      "metadata": {
        "colab": {
          "base_uri": "https://localhost:8080/"
        },
        "id": "PSuumV_82y3A",
        "outputId": "900a15d8-3c96-4454-cafe-0cfde44866c6"
      },
      "source": [
        "fd.shape"
      ],
      "execution_count": null,
      "outputs": [
        {
          "output_type": "execute_result",
          "data": {
            "text/plain": [
              "(700, 80, 30, 3)"
            ]
          },
          "metadata": {
            "tags": []
          },
          "execution_count": 21
        }
      ]
    },
    {
      "cell_type": "code",
      "metadata": {
        "colab": {
          "base_uri": "https://localhost:8080/"
        },
        "id": "oYIVk9iQ4KrB",
        "outputId": "05bc0faf-9396-4d6c-d2f5-ae140b1d0a2a"
      },
      "source": [
        "sd.shape"
      ],
      "execution_count": null,
      "outputs": [
        {
          "output_type": "execute_result",
          "data": {
            "text/plain": [
              "(200, 80, 30, 3)"
            ]
          },
          "metadata": {
            "tags": []
          },
          "execution_count": 30
        }
      ]
    },
    {
      "cell_type": "code",
      "metadata": {
        "id": "_Y9hlegM4ScN"
      },
      "source": [
        "edd = np.concatenate((fd, sd), axis=0)"
      ],
      "execution_count": null,
      "outputs": []
    },
    {
      "cell_type": "code",
      "metadata": {
        "colab": {
          "base_uri": "https://localhost:8080/"
        },
        "id": "hBWztE8a4bZi",
        "outputId": "e711033f-8c51-4bd4-a4ce-c886e0cb861c"
      },
      "source": [
        "edd.shape"
      ],
      "execution_count": null,
      "outputs": [
        {
          "output_type": "execute_result",
          "data": {
            "text/plain": [
              "(900, 80, 30, 3)"
            ]
          },
          "metadata": {
            "tags": []
          },
          "execution_count": 50
        }
      ]
    },
    {
      "cell_type": "code",
      "metadata": {
        "colab": {
          "base_uri": "https://localhost:8080/",
          "height": 285
        },
        "id": "hn7T8_hh4dN6",
        "outputId": "8fa9f476-b975-4f5e-dd2f-051388cc2fe1"
      },
      "source": [
        "plt.imshow(edd[0])"
      ],
      "execution_count": null,
      "outputs": [
        {
          "output_type": "execute_result",
          "data": {
            "text/plain": [
              "<matplotlib.image.AxesImage at 0x7fd7c3ea5610>"
            ]
          },
          "metadata": {
            "tags": []
          },
          "execution_count": 56
        },
        {
          "output_type": "display_data",
          "data": {
            "image/png": "[encoded data removed]",
            "text/plain": [
              "<Figure size 432x288 with 1 Axes>"
            ]
          },
          "metadata": {
            "tags": [],
            "needs_background": "light"
          }
        }
      ]
    },
    {
      "cell_type": "code",
      "metadata": {
        "id": "OJ2HiM-g4oqs"
      },
      "source": [
        "np.random.shuffle(edd)"
      ],
      "execution_count": null,
      "outputs": []
    },
    {
      "cell_type": "code",
      "metadata": {
        "colab": {
          "base_uri": "https://localhost:8080/"
        },
        "id": "h3MGKrRZMRIo",
        "outputId": "e10cc71e-24ae-4e72-b966-1790c963f2cc"
      },
      "source": [
        "x.shape"
      ],
      "execution_count": null,
      "outputs": [
        {
          "output_type": "execute_result",
          "data": {
            "text/plain": [
              "(250, 80, 30, 3)"
            ]
          },
          "metadata": {
            "tags": []
          },
          "execution_count": 22
        }
      ]
    },
    {
      "cell_type": "code",
      "metadata": {
        "id": "Zk22QcBk4tEM"
      },
      "source": [
        "np.save('/content/drive/MyDrive/Dataset/im_non', x)"
      ],
      "execution_count": null,
      "outputs": []
    },
    {
      "cell_type": "code",
      "metadata": {
        "id": "h2kVrMh-5ZFw",
        "colab": {
          "base_uri": "https://localhost:8080/"
        },
        "outputId": "73d46fe6-5a08-4bda-d33f-dba66f645367"
      },
      "source": [
        "y.shape"
      ],
      "execution_count": null,
      "outputs": [
        {
          "output_type": "execute_result",
          "data": {
            "text/plain": [
              "(250,)"
            ]
          },
          "metadata": {
            "tags": []
          },
          "execution_count": 24
        }
      ]
    },
    {
      "cell_type": "code",
      "metadata": {
        "id": "is347QkGPM1O"
      },
      "source": [
        "np.save('/content/drive/MyDrive/Dataset/y_non', y)"
      ],
      "execution_count": null,
      "outputs": []
    },
    {
      "cell_type": "code",
      "metadata": {
        "id": "_kfAJ0ATPSpE"
      },
      "source": [
        ""
      ],
      "execution_count": null,
      "outputs": []
    }
  ]
}